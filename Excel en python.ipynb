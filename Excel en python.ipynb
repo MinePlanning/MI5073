{
 "cells": [
  {
   "cell_type": "markdown",
   "metadata": {},
   "source": [
    "<h3 align=\"center\">Excel en Python</h3> "
   ]
  },
  {
   "cell_type": "markdown",
   "metadata": {},
   "source": [
    "## Crear un tabla\n",
    "Usar la notación de diccionario (clave y valor) para definir las columnas"
   ]
  },
  {
   "cell_type": "code",
   "execution_count": null,
   "metadata": {},
   "outputs": [],
   "source": [
    "import pandas as pd\n",
    "tabla=pd.DataFrame({'a':[1,3,5],\n",
    "                    'b':[40,10,5],\n",
    "                    'c':[2,4,8]})\n",
    "print(tabla)"
   ]
  },
  {
   "cell_type": "code",
   "execution_count": null,
   "metadata": {},
   "outputs": [],
   "source": [
    "x=tabla.loc[0,\"c\"]\n",
    "print(x)"
   ]
  },
  {
   "cell_type": "code",
   "execution_count": null,
   "metadata": {},
   "outputs": [],
   "source": [
    "x=tabla.iloc[1,0]\n",
    "print(x)"
   ]
  },
  {
   "cell_type": "code",
   "execution_count": null,
   "metadata": {},
   "outputs": [],
   "source": [
    "x=tabla.loc[[1,2]]\n",
    "print(x)"
   ]
  },
  {
   "cell_type": "code",
   "execution_count": null,
   "metadata": {},
   "outputs": [],
   "source": [
    "x=tabla[\"b\"]\n",
    "print(x)"
   ]
  },
  {
   "cell_type": "code",
   "execution_count": null,
   "metadata": {},
   "outputs": [],
   "source": [
    "x=list(tabla[\"b\"])\n",
    "print(x)"
   ]
  },
  {
   "cell_type": "code",
   "execution_count": null,
   "metadata": {},
   "outputs": [],
   "source": [
    "x=tabla.loc[[1,2],[\"b\",\"c\"]]\n",
    "print(x)"
   ]
  },
  {
   "cell_type": "markdown",
   "metadata": {},
   "source": [
    "## Modificar valores de la tabla"
   ]
  },
  {
   "cell_type": "code",
   "execution_count": null,
   "metadata": {},
   "outputs": [],
   "source": [
    "import pandas as pd\n",
    "tabla=pd.DataFrame({'a':[3.0,4.5,6.0],\n",
    "                   'b':[4.0,4.0,5.0],\n",
    "                   'c':[6.0,6.5,7.0]},\n",
    "                  index=[\"Pedro\",\"Juan\",\"Diego\"])\n",
    "print(tabla)"
   ]
  },
  {
   "cell_type": "code",
   "execution_count": null,
   "metadata": {},
   "outputs": [],
   "source": [
    "tabla.loc[\"Pedro\",\"a\"]=5.5\n",
    "print(tabla)"
   ]
  },
  {
   "cell_type": "code",
   "execution_count": null,
   "metadata": {},
   "outputs": [],
   "source": [
    "tabla[\"Promedio\"]=(tabla[\"a\"]+tabla[\"b\"]+tabla[\"c\"])/3\n",
    "print(tabla)"
   ]
  },
  {
   "cell_type": "code",
   "execution_count": null,
   "metadata": {},
   "outputs": [],
   "source": [
    "tabla.loc[\"Prueba\"]=tabla.loc[\"Pedro\"]*tabla.loc[\"Juan\"]/tabla.loc[\"Diego\"]\n",
    "print(tabla)"
   ]
  },
  {
   "cell_type": "code",
   "execution_count": null,
   "metadata": {},
   "outputs": [],
   "source": [
    "tabla=tabla.drop([\"Prueba\"],axis=0)\n",
    "print(tabla)"
   ]
  },
  {
   "cell_type": "markdown",
   "metadata": {},
   "source": [
    "## Importar un Excel"
   ]
  },
  {
   "cell_type": "code",
   "execution_count": null,
   "metadata": {},
   "outputs": [],
   "source": [
    "import pandas as pd\n",
    "modelo = pd.read_csv(r\"C:\\Users\\gabri\\OneDrive\\Escritorio\\Modelo Bloques.csv\",sep=\";\")\n",
    "print(modelo)"
   ]
  },
  {
   "cell_type": "markdown",
   "metadata": {},
   "source": [
    "## Filtrar datos"
   ]
  },
  {
   "cell_type": "code",
   "execution_count": null,
   "metadata": {},
   "outputs": [],
   "source": [
    "x=modelo.loc[modelo[\"Cu\"]>=0.5]\n",
    "print(x)"
   ]
  },
  {
   "cell_type": "code",
   "execution_count": null,
   "metadata": {},
   "outputs": [],
   "source": [
    "x=modelo.loc[ (modelo[\"Cu\"]>=0.5) & (modelo[\"Cu\"]<=1.5) ,[\"Density\"]]\n",
    "print(x)"
   ]
  },
  {
   "cell_type": "markdown",
   "metadata": {},
   "source": [
    "## Modificar Excel"
   ]
  },
  {
   "cell_type": "code",
   "execution_count": null,
   "metadata": {},
   "outputs": [],
   "source": [
    "import pandas as pd\n",
    "modelo = pd.read_csv(r\"C:\\Users\\gabri\\OneDrive\\Escritorio\\Modelo Bloques.csv\",sep=\";\")\n",
    "print(modelo)"
   ]
  },
  {
   "cell_type": "code",
   "execution_count": null,
   "metadata": {},
   "outputs": [],
   "source": [
    "modelo.loc[modelo[\"centroi2\"] == 8080666.5, [\"Density\"] ]=0\n",
    "print(modelo) "
   ]
  },
  {
   "cell_type": "code",
   "execution_count": null,
   "metadata": {},
   "outputs": [],
   "source": [
    "modelo[\"Tonelaje\"]= 125*modelo[\"Density\"]\n",
    "print(modelo)"
   ]
  },
  {
   "cell_type": "markdown",
   "metadata": {},
   "source": [
    "### Sumar el tonelaje de los bloques (forma 1)"
   ]
  },
  {
   "cell_type": "code",
   "execution_count": null,
   "metadata": {},
   "outputs": [],
   "source": [
    "x=float(modelo[\"Tonelaje\"].sum())\n",
    "print(x)"
   ]
  },
  {
   "cell_type": "markdown",
   "metadata": {},
   "source": [
    "### Sumar el tonelaje de los bloques (forma 2)"
   ]
  },
  {
   "cell_type": "code",
   "execution_count": null,
   "metadata": {},
   "outputs": [],
   "source": [
    "suma=0\n",
    "n_filas=len(modelo.index)\n",
    "\n",
    "for i in range (0,n_filas):\n",
    "    suma = suma + modelo.loc[i,\"Tonelaje\"]\n",
    "    \n",
    "    \n",
    "print(suma)"
   ]
  },
  {
   "cell_type": "markdown",
   "metadata": {},
   "source": [
    "## Guardar excel "
   ]
  },
  {
   "cell_type": "code",
   "execution_count": null,
   "metadata": {},
   "outputs": [],
   "source": [
    "modelo.to_csv(r\"C:\\Users\\gabri\\OneDrive\\Escritorio\\Modelo Bloques Modificado.csv\",index=False)"
   ]
  },
  {
   "cell_type": "markdown",
   "metadata": {},
   "source": [
    "## Graficar curva tonelaje ley"
   ]
  },
  {
   "cell_type": "code",
   "execution_count": null,
   "metadata": {},
   "outputs": [],
   "source": [
    "import matplotlib.pyplot as plt\n",
    "import numpy as np\n",
    "\n",
    "x=np.array([1,2,3,4,5])\n",
    "y1=x**2\n",
    "y2=1/x\n",
    "\n",
    "fig,ax1=plt.subplots()\n",
    "ax2=ax1.twinx()\n",
    "fig.suptitle(\"Curva tonelaje ley\")\n",
    "ax1.plot(x,y1,color=\"red\")\n",
    "ax2.plot(x,y2,color=\"blue\")\n",
    "ax1.set_ylabel(\"Tonelaje\")\n",
    "ax1.set_xlabel(\"ley de corte\")\n",
    "ax2.set_ylabel(\"ley media\")\n",
    "plt.show()"
   ]
  }
 ],
 "metadata": {
  "kernelspec": {
   "display_name": "Python 3",
   "language": "python",
   "name": "python3"
  },
  "language_info": {
   "codemirror_mode": {
    "name": "ipython",
    "version": 3
   },
   "file_extension": ".py",
   "mimetype": "text/x-python",
   "name": "python",
   "nbconvert_exporter": "python",
   "pygments_lexer": "ipython3",
   "version": "3.8.5"
  }
 },
 "nbformat": 4,
 "nbformat_minor": 4
}
