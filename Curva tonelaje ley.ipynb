{
 "cells": [
  {
   "cell_type": "markdown",
   "metadata": {},
   "source": [
    "<h3 align=\"center\">Curva tonelaje ley</h3> "
   ]
  },
  {
   "cell_type": "code",
   "execution_count": null,
   "metadata": {},
   "outputs": [],
   "source": [
    "import pandas as pd\n",
    "modelo=pd.read_csv(r\"C:\\Users\\gabri\\OneDrive\\Escritorio\\Modelo Bloques.csv\",sep=\";\")\n",
    "print(modelo)"
   ]
  },
  {
   "cell_type": "code",
   "execution_count": null,
   "metadata": {},
   "outputs": [],
   "source": [
    "modelo[\"tonelaje\"]=125*modelo[\"Density\"]\n",
    "modelo[\"finos cu\"]=modelo[\"Cu\"]*modelo[\"tonelaje\"]/100\n",
    "print(modelo)"
   ]
  },
  {
   "cell_type": "code",
   "execution_count": null,
   "metadata": {},
   "outputs": [],
   "source": [
    "tabla=pd.DataFrame({\"ley de corte\":[0,0.2,0.4,0.6,0.8,1,1.2],\n",
    "                   \"tonelaje\":[0,0,0,0,0,0,0],\n",
    "                   \"finos cu\":[0,0,0,0,0,0,0]})\n",
    "print(tabla)"
   ]
  },
  {
   "cell_type": "code",
   "execution_count": null,
   "metadata": {},
   "outputs": [],
   "source": [
    "for i in range(0,7):\n",
    "    tabla.loc[i,\"tonelaje\"]=float(modelo.loc[modelo[\"Cu\"]>=tabla.loc[i,\"ley de corte\"],[\"tonelaje\"]].sum())\n",
    "print(tabla)"
   ]
  },
  {
   "cell_type": "code",
   "execution_count": null,
   "metadata": {},
   "outputs": [],
   "source": [
    "for i in range(0,7):\n",
    "    tabla.loc[i,\"finos cu\"]=float(modelo.loc[modelo[\"Cu\"]>=tabla.loc[i,\"ley de corte\"],[\"finos cu\"]].sum())\n",
    "print(tabla)"
   ]
  },
  {
   "cell_type": "code",
   "execution_count": null,
   "metadata": {},
   "outputs": [],
   "source": [
    "tabla[\"ley de cu\"]=tabla[\"finos cu\"]/tabla[\"tonelaje\"]*100\n",
    "print(tabla)"
   ]
  },
  {
   "cell_type": "code",
   "execution_count": null,
   "metadata": {},
   "outputs": [],
   "source": [
    "import matplotlib.pyplot as plt\n",
    "\n",
    "x=list(tabla[\"ley de corte\"])\n",
    "y1=list(tabla[\"tonelaje\"])\n",
    "y2=list(tabla[\"ley de cu\"])\n",
    "\n",
    "fig,ax1=plt.subplots()\n",
    "ax2=ax1.twinx()\n",
    "fig.suptitle(\"Curva tonelaje ley\")\n",
    "ax1.plot(x,y1,color=\"red\")\n",
    "ax2.plot(x,y2,color=\"blue\")\n",
    "ax1.set_ylabel(\"Tonelaje\")\n",
    "ax1.set_xlabel(\"ley de corte\")\n",
    "ax2.set_ylabel(\"ley media\")\n",
    "plt.show()"
   ]
  },
  {
   "cell_type": "code",
   "execution_count": null,
   "metadata": {},
   "outputs": [],
   "source": []
  }
 ],
 "metadata": {
  "kernelspec": {
   "display_name": "Python 3",
   "language": "python",
   "name": "python3"
  },
  "language_info": {
   "codemirror_mode": {
    "name": "ipython",
    "version": 3
   },
   "file_extension": ".py",
   "mimetype": "text/x-python",
   "name": "python",
   "nbconvert_exporter": "python",
   "pygments_lexer": "ipython3",
   "version": "3.8.5"
  }
 },
 "nbformat": 4,
 "nbformat_minor": 4
}
